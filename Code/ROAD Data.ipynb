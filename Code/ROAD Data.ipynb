{
 "cells": [
  {
   "cell_type": "code",
   "execution_count": 1,
   "id": "88ccfe8d",
   "metadata": {},
   "outputs": [],
   "source": [
    "import numpy as np\n",
    "import pandas as pd\n",
    "import seaborn as sns\n",
    "import warnings\n",
    "warnings.filterwarnings('ignore')\n",
    "import matplotlib.pyplot as plt"
   ]
  },
  {
   "cell_type": "markdown",
   "id": "1a944d78",
   "metadata": {},
   "source": [
    "# 1.  Import all data files and create one DataFrame"
   ]
  },
  {
   "cell_type": "code",
   "execution_count": 2,
   "id": "5e8a2ecb",
   "metadata": {},
   "outputs": [],
   "source": [
    "# Define Column Names\n",
    "columns=[\"timeRelativeRef\", \"samplingTime\", \"epoch\", \"latitude\",\"longitude\",\"altitude\",\"speed\", \n",
    "            \"satellites\",\"accelerationX\", \"accelerationY\", \"accelerationZ\", \"roll\", \"pitch\",\"yaw\",\n",
    "            \"temperatur\",\"humidity\", \"barometricPressure\",\"light\",\"PM1.0_CF1\", \"PM2.5_CF1\", \"PM10.0_CF1\",\n",
    "            \"PM1.0_Auto\", \"PM2.5_Auto\", \"PM10.0_Auto\",\"label\"]"
   ]
  },
  {
   "cell_type": "code",
   "execution_count": 3,
   "id": "9941c8d1",
   "metadata": {},
   "outputs": [],
   "source": [
    "# Read all data\n",
    "Bricked1 = pd.read_csv(\"Labeled Training data\\Bricked road\\DATA002.CSV\", names=columns)\n",
    "Bricked2 = pd.read_csv(\"Labeled Training data\\Bricked road\\DATA004.CSV\", names=columns)\n",
    "\n",
    "Manhole = pd.read_csv(\"Labeled Training data\\Manhole\\DATA004.CSV\", names=columns)\n",
    "\n",
    "Pothole1 = pd.read_csv(\"Labeled Training data\\Pothole\\DATA001.CSV\", names=columns)\n",
    "Pothole2 = pd.read_csv(\"Labeled Training data\\Pothole\\DATA002.CSV\", names=columns)\n",
    "Pothole3 = pd.read_csv(\"Labeled Training data\\Pothole\\DATA003.CSV\", names=columns)\n",
    "\n",
    "RoadJoint1 = pd.read_csv(\"Labeled Training data\\Road joint\\DATA001.CSV\", names=columns)\n",
    "RoadJoint2 = pd.read_csv(\"Labeled Training data\\Road joint\\DATA003.CSV\", names=columns)\n",
    "\n",
    "StormBasin1 = pd.read_csv(\"Labeled Training data\\Storm basin\\DATA001.CSV\", names=columns)\n",
    "StormBasin2 = pd.read_csv(\"Labeled Training data\\Storm basin\\DATA002.CSV\", names=columns)\n",
    "StormBasin3 = pd.read_csv(\"Labeled Training data\\Storm basin\\DATA003.CSV\", names=columns)\n"
   ]
  },
  {
   "cell_type": "code",
   "execution_count": 4,
   "id": "4fdaa5ca",
   "metadata": {},
   "outputs": [],
   "source": [
    "# add labels in all DataFrames\n",
    "\n",
    "Bricked1['label'] = 'bricked'\n",
    "Bricked2['label'] = 'bricked'\n",
    "\n",
    "Manhole['label'] = 'manhole'\n",
    "\n",
    "Pothole1['label'] = 'pothole'\n",
    "Pothole2['label'] = 'pothole'\n",
    "Pothole3['label'] = 'pothole'\n",
    "\n",
    "RoadJoint1['label'] = 'roadJoint'\n",
    "RoadJoint2['label'] = 'roadJoint'\n",
    "\n",
    "StormBasin1['label'] = 'stormBasin'\n",
    "StormBasin2['label'] = 'stormBasin'\n",
    "StormBasin3['label'] = 'stormBasin'"
   ]
  },
  {
   "cell_type": "code",
   "execution_count": 5,
   "id": "b891d2ce",
   "metadata": {},
   "outputs": [
    {
     "data": {
      "text/plain": [
       "(995676, 25)"
      ]
     },
     "execution_count": 5,
     "metadata": {},
     "output_type": "execute_result"
    }
   ],
   "source": [
    "# combine all above DataFrames\n",
    "\n",
    "df = pd.concat([Bricked1,Bricked2, \n",
    "                Manhole, \n",
    "                Pothole1, Pothole2,Pothole3, \n",
    "                RoadJoint1, RoadJoint2,\n",
    "                StormBasin1,StormBasin2, StormBasin3 ])\n",
    "# Check Shape\n",
    "df.shape"
   ]
  },
  {
   "cell_type": "code",
   "execution_count": 6,
   "id": "1d47cfd0",
   "metadata": {},
   "outputs": [
    {
     "name": "stdout",
     "output_type": "stream",
     "text": [
      "<class 'pandas.core.frame.DataFrame'>\n",
      "Int64Index: 995676 entries, 0 to 1824\n",
      "Data columns (total 25 columns):\n",
      " #   Column              Non-Null Count   Dtype  \n",
      "---  ------              --------------   -----  \n",
      " 0   timeRelativeRef     995676 non-null  object \n",
      " 1   samplingTime        995676 non-null  object \n",
      " 2   epoch               59709 non-null   object \n",
      " 3   latitude            59709 non-null   object \n",
      " 4   longitude           59707 non-null   object \n",
      " 5   altitude            59478 non-null   object \n",
      " 6   speed               54437 non-null   object \n",
      " 7   satellites          2038 non-null    object \n",
      " 8   accelerationX       938005 non-null  object \n",
      " 9   accelerationY       938005 non-null  object \n",
      " 10  accelerationZ       937991 non-null  object \n",
      " 11  roll                937836 non-null  float64\n",
      " 12  pitch               937836 non-null  float64\n",
      " 13  yaw                 937836 non-null  float64\n",
      " 14  temperatur          1869 non-null    float64\n",
      " 15  humidity            1869 non-null    float64\n",
      " 16  barometricPressure  1869 non-null    float64\n",
      " 17  light               1869 non-null    float64\n",
      " 18  PM1.0_CF1           1869 non-null    float64\n",
      " 19  PM2.5_CF1           1869 non-null    float64\n",
      " 20  PM10.0_CF1          1869 non-null    float64\n",
      " 21  PM1.0_Auto          1869 non-null    float64\n",
      " 22  PM2.5_Auto          1869 non-null    float64\n",
      " 23  PM10.0_Auto         1869 non-null    float64\n",
      " 24  label               995676 non-null  object \n",
      "dtypes: float64(13), object(12)\n",
      "memory usage: 197.5+ MB\n"
     ]
    }
   ],
   "source": [
    "# check info\n",
    "df.info()"
   ]
  },
  {
   "cell_type": "code",
   "execution_count": 7,
   "id": "7dc67fc0",
   "metadata": {},
   "outputs": [
    {
     "data": {
      "text/plain": [
       "pothole       352619\n",
       "stormBasin    232798\n",
       "bricked       158578\n",
       "roadJoint     146070\n",
       "manhole       105611\n",
       "Name: label, dtype: int64"
      ]
     },
     "execution_count": 7,
     "metadata": {},
     "output_type": "execute_result"
    }
   ],
   "source": [
    "# check labels \n",
    "df.label.value_counts()"
   ]
  },
  {
   "cell_type": "code",
   "execution_count": null,
   "id": "401b1bb5",
   "metadata": {},
   "outputs": [],
   "source": []
  }
 ],
 "metadata": {
  "kernelspec": {
   "display_name": "Python 3 (ipykernel)",
   "language": "python",
   "name": "python3"
  },
  "language_info": {
   "codemirror_mode": {
    "name": "ipython",
    "version": 3
   },
   "file_extension": ".py",
   "mimetype": "text/x-python",
   "name": "python",
   "nbconvert_exporter": "python",
   "pygments_lexer": "ipython3",
   "version": "3.8.12"
  }
 },
 "nbformat": 4,
 "nbformat_minor": 5
}
